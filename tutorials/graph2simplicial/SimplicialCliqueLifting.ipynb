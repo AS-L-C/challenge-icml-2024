{
 "cells": [
  {
   "cell_type": "markdown",
   "metadata": {},
   "source": [
    "# SimplicialCliqueLifting Tutorial"
   ]
  },
  {
   "cell_type": "code",
   "execution_count": 1,
   "metadata": {},
   "outputs": [],
   "source": [
    "import rootutils\n",
    "\n",
    "rootutils.setup_root(\"./\", indicator=\".project-root\", pythonpath=True)\n",
    "root_folder = rootutils.find_root()\n",
    "import omegaconf\n",
    "\n",
    "from modules.transforms.liftings.graph2simplicial import SimplicialCliqueLifting\n",
    "from modules.io.load.loaders import GraphLoader"
   ]
  },
  {
   "cell_type": "markdown",
   "metadata": {},
   "source": [
    "### Import Dataset Config"
   ]
  },
  {
   "cell_type": "markdown",
   "metadata": {},
   "source": [
    "Either we keep yaml config files and provide a brief overview of them, or we build the required config files by hand in these tutorials. (I prefer the former option.)"
   ]
  },
  {
   "cell_type": "code",
   "execution_count": 2,
   "metadata": {},
   "outputs": [
    {
     "data": {
      "text/plain": [
       "{'data_domain': 'graph', 'data_type': 'cocitation', 'data_name': 'Cora', 'data_dir': '${oc.env:PROJECT_ROOT}/datasets/${parameters.data_domain}/${parameters.data_type}', 'data_split_dir': '${oc.env:PROJECT_ROOT}/datasets/data_splits/${parameters.data_name}', 'num_features': 1433, 'num_classes': 7, 'task': 'classification', 'loss_type': 'cross_entropy', 'monitor_metric': 'accuracy', 'task_level': 'node', 'data_seed': 0, 'split_type': 'random', 'k': 10, 'train_prop': 0.5}"
      ]
     },
     "execution_count": 2,
     "metadata": {},
     "output_type": "execute_result"
    }
   ],
   "source": [
    "dataset_name = \"cocitation_cora\"\n",
    "dataset_config = omegaconf.OmegaConf.load(\n",
    "    f\"{root_folder}/configs/dataset/{dataset_name}.yaml\"\n",
    ").parameters\n",
    "dataset_config"
   ]
  },
  {
   "cell_type": "markdown",
   "metadata": {},
   "source": [
    "### Import Transform Config"
   ]
  },
  {
   "cell_type": "markdown",
   "metadata": {},
   "source": [
    "Same dilemma as before, yaml files or dicts within tutorials."
   ]
  },
  {
   "cell_type": "code",
   "execution_count": 4,
   "metadata": {},
   "outputs": [
    {
     "name": "stdout",
     "output_type": "stream",
     "text": [
      "{'lifting': {'_target_': 'modules.transforms.data_transform.DataTransform', 'transform_type': 'lifting', 'transform_name': 'SimplicialCliqueLifting', 'complex_dim': '${oc.select:parameters.max_dim_if_lifted,2}', 'preserve_edge_attr': '${oc.select:parameters.preserve_edge_attr_if_lifted,False}', 'signed': True, 'feature_lifting': 'projection'}}\n"
     ]
    }
   ],
   "source": [
    "lifting_type = \"graph2simplicial\"\n",
    "id_lifting = \"simplicial_clique\"\n",
    "transform_config = {\n",
    "    \"lifting\": omegaconf.OmegaConf.load(\n",
    "        f\"{root_folder}/configs/transforms/topological_liftings/{lifting_type}/{id_lifting}.yaml\"\n",
    "    )\n",
    "    # other transforms (e.g. data manipulations, feature liftings) can be added here\n",
    "}\n",
    "print(transform_config)"
   ]
  },
  {
   "cell_type": "markdown",
   "metadata": {},
   "source": [
    "### Load and Transform the Dataset"
   ]
  },
  {
   "cell_type": "code",
   "execution_count": 5,
   "metadata": {},
   "outputs": [
    {
     "name": "stdout",
     "output_type": "stream",
     "text": [
      "Transform parameters are the same, using existing data_dir: /Users/gbg141/Documents/TopoProjectX/challenge-icml-2024/datasets/graph/cocitation/Cora/lifting/4278182681\n"
     ]
    },
    {
     "name": "stderr",
     "output_type": "stream",
     "text": [
      "/opt/miniconda3/envs/topox/lib/python3.11/site-packages/torch_geometric/data/in_memory_dataset.py:301: UserWarning: It is not recommended to directly access the internal storage format `data` of an 'InMemoryDataset'. If you are absolutely certain what you are doing, access the internal storage via `InMemoryDataset._data` instead to suppress this warning. Alternatively, you can access stacked individual attributes of every graph via `dataset.{attr_name}`.\n",
      "  warnings.warn(msg)\n"
     ]
    }
   ],
   "source": [
    "dataset = GraphLoader(dataset_config, transform_config).load()"
   ]
  },
  {
   "cell_type": "code",
   "execution_count": 6,
   "metadata": {},
   "outputs": [
    {
     "data": {
      "text/plain": [
       "Data(x=[2708, 1433], edge_index=[2, 10556], y=[2708], train_mask=[1354], val_mask=[677], test_mask=[677], incidence_0=[1, 2708], down_laplacian_0=[2708, 2708], up_laplacian_0=[2708, 2708], adjacency_0=[2708, 2708], hodge_laplacian_0=[2708, 2708], incidence_1=[2708, 5278], down_laplacian_1=[5278, 5278], up_laplacian_1=[5278, 5278], adjacency_1=[5278, 5278], hodge_laplacian_1=[5278, 5278], incidence_2=[5278, 1630], down_laplacian_2=[1630, 1630], up_laplacian_2=[1630, 1630], adjacency_2=[1630, 1630], hodge_laplacian_2=[1630, 1630], shape=[3], x_0=[2708, 1433], x_1=[5278, 1433], x_2=[1630, 1433])"
      ]
     },
     "execution_count": 6,
     "metadata": {},
     "output_type": "execute_result"
    }
   ],
   "source": [
    "dataset"
   ]
  },
  {
   "cell_type": "markdown",
   "metadata": {},
   "source": [
    "### Create a Neural Network Model"
   ]
  },
  {
   "cell_type": "code",
   "execution_count": 7,
   "metadata": {},
   "outputs": [],
   "source": [
    "from topomodelx.nn.simplicial.san import SAN\n",
    "import torch\n",
    "\n",
    "\n",
    "class Network(torch.nn.Module):\n",
    "    def __init__(self, in_channels, hidden_channels, out_channels, n_layers=1):\n",
    "        super().__init__()\n",
    "        self.base_model = SAN(\n",
    "            in_channels=in_channels,\n",
    "            hidden_channels=hidden_channels,\n",
    "            n_layers=n_layers,\n",
    "        )\n",
    "        self.linear = torch.nn.Linear(hidden_channels, out_channels)\n",
    "\n",
    "    def forward(self, x, laplacian_up, laplacian_down):\n",
    "        x = self.base_model(x, laplacian_up, laplacian_down)\n",
    "        x = self.linear(x)\n",
    "        return torch.sigmoid(x)"
   ]
  },
  {
   "cell_type": "markdown",
   "metadata": {},
   "source": [
    "### Run the Model"
   ]
  },
  {
   "cell_type": "code",
   "execution_count": 8,
   "metadata": {},
   "outputs": [],
   "source": [
    "n_layers = 2\n",
    "in_channels = dataset_config[\"num_features\"]\n",
    "hidden_channels = 32\n",
    "out_channels = dataset_config[\"num_classes\"]\n",
    "\n",
    "model = Network(\n",
    "    in_channels=in_channels,\n",
    "    hidden_channels=hidden_channels,\n",
    "    out_channels=out_channels,\n",
    "    n_layers=n_layers,\n",
    ")"
   ]
  },
  {
   "cell_type": "code",
   "execution_count": 9,
   "metadata": {},
   "outputs": [],
   "source": [
    "y_hat = model(dataset.x_1, dataset.up_laplacian_1, dataset.down_laplacian_1)"
   ]
  },
  {
   "cell_type": "code",
   "execution_count": null,
   "metadata": {},
   "outputs": [],
   "source": []
  },
  {
   "cell_type": "code",
   "execution_count": null,
   "metadata": {},
   "outputs": [],
   "source": []
  }
 ],
 "metadata": {
  "kernelspec": {
   "display_name": "venv_topox",
   "language": "python",
   "name": "python3"
  },
  "language_info": {
   "codemirror_mode": {
    "name": "ipython",
    "version": 3
   },
   "file_extension": ".py",
   "mimetype": "text/x-python",
   "name": "python",
   "nbconvert_exporter": "python",
   "pygments_lexer": "ipython3",
   "version": "3.11.3"
  }
 },
 "nbformat": 4,
 "nbformat_minor": 2
}
