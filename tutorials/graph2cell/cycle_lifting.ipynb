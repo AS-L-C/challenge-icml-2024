{
 "cells": [
  {
   "cell_type": "markdown",
   "metadata": {},
   "source": [
    "# CellCycleLifting Tutorial"
   ]
  },
  {
   "cell_type": "markdown",
   "metadata": {},
   "source": [
    "***\n",
    "This notebook shows how to import a dataset, with the desired lifting, and how to run a neural network using the loaded data.\n",
    "\n",
    "The notebook is divided into sections:\n",
    "\n",
    "- [Loading the dataset](#loading-the-dataset) loads the config files for the data and the desired tranformation, createsa a dataset object and visualizes it.\n",
    "- [Create NN model](#create-nn-model) defines a simple neural network to test that the lifting creates the expected incidence matrices.\n",
    "- [Run](#run) simply runs a forward pass of the model to check that everything is working as expected.\n",
    "\n",
    "***\n",
    "***\n",
    "\n",
    "Note that for simplicity the notebook is setup to use a simple graph, however there is a set of available datasets that you can play with.\n",
    "\n",
    "To switch to one of the available datasets, simply change the *dataset_name* variable in [Dataset config](#dataset-config) to one of the following names:\n",
    "\n",
    "* cocitation_cora\n",
    "* cocitation_citeseer\n",
    "* cocitation_pubmed\n",
    "* MUTAG\n",
    "* NCI1\n",
    "* NCI109\n",
    "***"
   ]
  },
  {
   "cell_type": "markdown",
   "metadata": {},
   "source": [
    "### Imports and utilities"
   ]
  },
  {
   "cell_type": "code",
   "execution_count": 1,
   "metadata": {},
   "outputs": [],
   "source": [
    "# With this cell any imported module is reloaded before each cell execution\n",
    "%load_ext autoreload\n",
    "%autoreload 2"
   ]
  },
  {
   "cell_type": "code",
   "execution_count": 2,
   "metadata": {},
   "outputs": [],
   "source": [
    "import pprint\n",
    "import rootutils\n",
    "import json\n",
    "\n",
    "rootutils.setup_root(\"./\", indicator=\".project-root\", pythonpath=True)\n",
    "root_folder = rootutils.find_root()\n",
    "import omegaconf\n",
    "import torch\n",
    "from modules.io.load.loaders import GraphLoader"
   ]
  },
  {
   "cell_type": "markdown",
   "metadata": {},
   "source": [
    "## Loading the dataset"
   ]
  },
  {
   "cell_type": "markdown",
   "metadata": {},
   "source": [
    "The dataset for this notebook is a manually created dataset with a single graph.\n",
    "\n",
    "The configs to create the dataset are saved in a yaml file that is loaded using `omegaconf`.\n",
    "\n",
    "Similarly the parameters for the tranformation to apply to the data are saved in another yaml file."
   ]
  },
  {
   "cell_type": "markdown",
   "metadata": {},
   "source": [
    "### Dataset config"
   ]
  },
  {
   "cell_type": "code",
   "execution_count": 3,
   "metadata": {},
   "outputs": [
    {
     "name": "stdout",
     "output_type": "stream",
     "text": [
      "{'data_domain': 'graph',\n",
      " 'data_type': 'manual_dataset',\n",
      " 'data_name': 'manual',\n",
      " 'data_dir': '/challenge-icml-2024/datasets/graph/manual_dataset',\n",
      " 'num_features': 1,\n",
      " 'num_classes': 2,\n",
      " 'task': 'classification',\n",
      " 'loss_type': 'cross_entropy',\n",
      " 'monitor_metric': 'accuracy',\n",
      " 'task_level': 'node',\n",
      " 'split_type': 'k-fold',\n",
      " 'k': 10,\n",
      " 'data_seed': 0}\n"
     ]
    }
   ],
   "source": [
    "dataset_name = \"manual_dataset\"\n",
    "\n",
    "dataset_config = omegaconf.OmegaConf.load(\n",
    "    f\"{root_folder}/configs/dataset/{dataset_name}.yaml\"\n",
    ").parameters\n",
    "\n",
    "# Print config file for nice visualization\n",
    "dict2print = dataset_config.copy()\n",
    "pprint.pp(dict(dict2print))"
   ]
  },
  {
   "cell_type": "markdown",
   "metadata": {},
   "source": [
    "### Transform config"
   ]
  },
  {
   "cell_type": "markdown",
   "metadata": {},
   "source": [
    "The *tranform_config* dictionary can contain a sequence of tranforms if it is needed."
   ]
  },
  {
   "cell_type": "code",
   "execution_count": 4,
   "metadata": {},
   "outputs": [
    {
     "name": "stdout",
     "output_type": "stream",
     "text": [
      "{'lifting': {'_target_': 'modules.transforms.data_transform.DataTransform',\n",
      "             'transform_type': 'lifting',\n",
      "             'transform_name': 'CellCycleLifting',\n",
      "             'max_cell_length': None,\n",
      "             'preserve_edge_attr': False,\n",
      "             'feature_lifting': 'SumLifting'}}\n"
     ]
    }
   ],
   "source": [
    "# Define lifting type\n",
    "lifting_type = \"graph2cell\"\n",
    "\n",
    "# Define lifting id (name)\n",
    "id_lifting = \"cycle_lifting\"\n",
    "\n",
    "# Read yaml file\n",
    "transform_config = {\n",
    "    \"lifting\": omegaconf.OmegaConf.load(\n",
    "        f\"{root_folder}/configs/transforms/liftings/{lifting_type}/{id_lifting}.yaml\"\n",
    "    )\n",
    "    # other transforms (e.g. data manipulations, feature liftings) can be added here\n",
    "}\n",
    "\n",
    "# Print config file for nice visualization\n",
    "dict2print = transform_config.copy()\n",
    "dict2print[\"lifting\"] = dict(dict2print[\"lifting\"])\n",
    "\n",
    "pprint.pp(dict(dict2print))"
   ]
  },
  {
   "cell_type": "markdown",
   "metadata": {},
   "source": [
    "### Load dataset"
   ]
  },
  {
   "cell_type": "code",
   "execution_count": 5,
   "metadata": {},
   "outputs": [
    {
     "name": "stdout",
     "output_type": "stream",
     "text": [
      "Transform parameters are the same, using existing data_dir: /challenge-icml-2024/datasets/graph/manual_dataset/manual/lifting/4292895523\n"
     ]
    },
    {
     "name": "stderr",
     "output_type": "stream",
     "text": [
      "/usr/local/lib/python3.11/site-packages/torch_geometric/data/in_memory_dataset.py:301: UserWarning: It is not recommended to directly access the internal storage format `data` of an 'InMemoryDataset'. If you are absolutely certain what you are doing, access the internal storage via `InMemoryDataset._data` instead to suppress this warning. Alternatively, you can access stacked individual attributes of every graph via `dataset.{attr_name}`.\n",
      "  warnings.warn(msg)\n"
     ]
    }
   ],
   "source": [
    "dataset = GraphLoader(dataset_config, transform_config).load()"
   ]
  },
  {
   "cell_type": "markdown",
   "metadata": {},
   "source": [
    "### Visualize graph"
   ]
  },
  {
   "cell_type": "code",
   "execution_count": 11,
   "metadata": {},
   "outputs": [
    {
     "name": "stdout",
     "output_type": "stream",
     "text": [
      "[0, 2, 7]\n",
      "[2, 5, 7]\n",
      "[2, 3, 5, 6]\n",
      "[0, 1, 4]\n",
      "[0, 2, 4]\n",
      "[0, 1, 2]\n"
     ]
    },
    {
     "data": {
      "image/png": "[encoded data removed]",
      "text/plain": [
       "<Figure size 500x500 with 1 Axes>"
      ]
     },
     "metadata": {},
     "output_type": "display_data"
    }
   ],
   "source": [
    "from modules.io.utils.utils import plot_manual_graph\n",
    "plot_manual_graph(dataset)"
   ]
  },
  {
   "cell_type": "code",
   "execution_count": null,
   "metadata": {},
   "outputs": [
    {
     "name": "stdout",
     "output_type": "stream",
     "text": [
      "Cell 0 is composed from the edges [1 3 9]\n",
      "Cell 1 is composed from the edges [ 8  9 12]\n",
      "Cell 2 is composed from the edges [ 6  8 10 11]\n",
      "Cell 3 is composed from the edges [0 2 5]\n",
      "Cell 4 is composed from the edges [1 2 7]\n",
      "Cell 5 is composed from the edges [0 1 4]\n"
     ]
    }
   ],
   "source": [
    "incidence_2 = dataset.incidence_2.coalesce()\n",
    "indices = incidence_2.indices()\n",
    "\n",
    "for cell_idx in torch.unique(indices[1]):\n",
    "    corresponding_idxs = indices[1]==cell_idx\n",
    "    edges = indices[0,corresponding_idxs]\n",
    "    print(f\"Cell {cell_idx} is composed from the edges {edges.numpy()}\")"
   ]
  },
  {
   "cell_type": "markdown",
   "metadata": {},
   "source": [
    "## Create NN Model"
   ]
  },
  {
   "cell_type": "code",
   "execution_count": null,
   "metadata": {},
   "outputs": [],
   "source": [
    "from topomodelx.nn.cell.cwn import CWN\n",
    "import torch\n",
    "\n",
    "\n",
    "class Network(torch.nn.Module):\n",
    "    def __init__(\n",
    "        self,\n",
    "        in_channels_0,\n",
    "        in_channels_1,\n",
    "        in_channels_2,\n",
    "        hidden_channels,\n",
    "        out_channels,\n",
    "        n_layers=1,\n",
    "    ):\n",
    "        super().__init__()\n",
    "        self.base_model = CWN(\n",
    "            in_channels_0,\n",
    "            in_channels_1,\n",
    "            in_channels_2,\n",
    "            hidden_channels,\n",
    "            n_layers,\n",
    "        )\n",
    "        self.linear_0 = torch.nn.Linear(hidden_channels, out_channels)\n",
    "        self.linear_1 = torch.nn.Linear(hidden_channels, out_channels)\n",
    "        self.linear_2 = torch.nn.Linear(hidden_channels, out_channels)\n",
    "\n",
    "    def forward(self, data):\n",
    "        x_0, x_1, x_2 = self.base_model(\n",
    "            data.x_0,\n",
    "            data.x_1,\n",
    "            data.x_2,\n",
    "            data.adjacency_1,\n",
    "            data.incidence_2,\n",
    "            data.incidence_1.T,\n",
    "        )\n",
    "        x_0 = self.linear_0(x_0)\n",
    "        x_1 = self.linear_1(x_1)\n",
    "        x_2 = self.linear_2(x_2)\n",
    "        return x_0, x_1, x_2"
   ]
  },
  {
   "cell_type": "code",
   "execution_count": null,
   "metadata": {},
   "outputs": [],
   "source": [
    "n_layers = 2\n",
    "in_channels_0 = dataset_config[\"num_features\"]\n",
    "in_channels_1 = dataset_config[\"num_features\"]\n",
    "in_channels_2 = dataset_config[\"num_features\"]\n",
    "hidden_channels = 32\n",
    "out_channels = dataset_config[\"num_classes\"]\n",
    "\n",
    "model = Network(\n",
    "    in_channels_0=in_channels_0,\n",
    "    in_channels_1=in_channels_1,\n",
    "    in_channels_2=in_channels_2,\n",
    "    hidden_channels=hidden_channels,\n",
    "    out_channels=out_channels,\n",
    "    n_layers=n_layers,\n",
    ")"
   ]
  },
  {
   "cell_type": "markdown",
   "metadata": {},
   "source": [
    "## Run"
   ]
  },
  {
   "cell_type": "code",
   "execution_count": null,
   "metadata": {},
   "outputs": [],
   "source": [
    "y_hat = model(dataset)"
   ]
  }
 ],
 "metadata": {
  "kernelspec": {
   "display_name": "venv_topox",
   "language": "python",
   "name": "python3"
  },
  "language_info": {
   "codemirror_mode": {
    "name": "ipython",
    "version": 3
   },
   "file_extension": ".py",
   "mimetype": "text/x-python",
   "name": "python",
   "nbconvert_exporter": "python",
   "pygments_lexer": "ipython3",
   "version": "3.11.3"
  }
 },
 "nbformat": 4,
 "nbformat_minor": 2
}
